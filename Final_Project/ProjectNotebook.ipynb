{
 "cells": [
  {
   "cell_type": "markdown",
   "metadata": {},
   "source": [
    "# Todo List Bot - by nil"
   ]
  },
  {
   "cell_type": "markdown",
   "metadata": {},
   "source": [
    "#### - This project creates a Todo list table for users by taking input from them\n",
    "#### - The users can take various actions: Adding tasks to their lists, archiving tasks to a seperate list, updating the status of ther tasks, displaying all tasks their due dates and status as a table.\n",
    "#### - The reminder in the code gives users the options\n",
    "#### - Run the cell below to run the program"
   ]
  },
  {
   "cell_type": "markdown",
   "metadata": {},
   "source": [
    "## Project Code\n",
    "\n"
   ]
  },
  {
   "cell_type": "code",
   "execution_count": null,
   "metadata": {
    "scrolled": true
   },
   "outputs": [
    {
     "name": "stdout",
     "output_type": "stream",
     "text": [
      "\"Reminder:\n",
      " \n",
      "          Add task -> adds tasks\n",
      "          Archive task -> moves your task to archive list\n",
      "          Status update -> updates status of task to complete\n",
      "          See tasks -> displays all your tasks\n",
      "          \n",
      "      \n"
     ]
    }
   ],
   "source": [
    "# Run this cell\n",
    "import my_script.main_script"
   ]
  },
  {
   "cell_type": "markdown",
   "metadata": {},
   "source": [
    "#### Extra Credit  \n",
    "1. This was my first programming class ever, and this is my first complete project :)\n",
    "2. In this project I went beyond the requirements by learning more about pandas numpy and creating my own data frame, I challanged myself to use all concepts we learned in class and add more.\n",
    "3. I submitted my work on github"
   ]
  },
  {
   "cell_type": "code",
   "execution_count": null,
   "metadata": {},
   "outputs": [],
   "source": []
  },
  {
   "cell_type": "code",
   "execution_count": null,
   "metadata": {},
   "outputs": [],
   "source": []
  }
 ],
 "metadata": {
  "kernelspec": {
   "display_name": "Python 3",
   "language": "python",
   "name": "python3"
  },
  "language_info": {
   "codemirror_mode": {
    "name": "ipython",
    "version": 3
   },
   "file_extension": ".py",
   "mimetype": "text/x-python",
   "name": "python",
   "nbconvert_exporter": "python",
   "pygments_lexer": "ipython3",
   "version": "3.8.5"
  }
 },
 "nbformat": 4,
 "nbformat_minor": 2
}
